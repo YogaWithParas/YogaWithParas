{
  "cells": [
    {
      "cell_type": "markdown",
      "metadata": {
        "id": "view-in-github",
        "colab_type": "text"
      },
      "source": [
        "<a href=\"https://colab.research.google.com/github/YogaWithParas/YogaWithParas/blob/main/portfolio_analysis.ipynb\" target=\"_parent\"><img src=\"https://colab.research.google.com/assets/colab-badge.svg\" alt=\"Open In Colab\"/></a>"
      ]
    },
    {
      "cell_type": "code",
      "execution_count": 2,
      "metadata": {
        "colab": {
          "base_uri": "https://localhost:8080/"
        },
        "id": "QOjKwZX1l8r2",
        "outputId": "2352757d-1f71-4d8b-a6ff-a2aeb55d7ca1"
      },
      "outputs": [
        {
          "output_type": "stream",
          "name": "stdout",
          "text": [
            "Requirement already satisfied: yfinance in /usr/local/lib/python3.10/dist-packages (0.2.49)\n",
            "Requirement already satisfied: pandas>=1.3.0 in /usr/local/lib/python3.10/dist-packages (from yfinance) (2.2.2)\n",
            "Requirement already satisfied: numpy>=1.16.5 in /usr/local/lib/python3.10/dist-packages (from yfinance) (1.26.4)\n",
            "Requirement already satisfied: requests>=2.31 in /usr/local/lib/python3.10/dist-packages (from yfinance) (2.32.3)\n",
            "Requirement already satisfied: multitasking>=0.0.7 in /usr/local/lib/python3.10/dist-packages (from yfinance) (0.0.11)\n",
            "Requirement already satisfied: lxml>=4.9.1 in /usr/local/lib/python3.10/dist-packages (from yfinance) (5.3.0)\n",
            "Requirement already satisfied: platformdirs>=2.0.0 in /usr/local/lib/python3.10/dist-packages (from yfinance) (4.3.6)\n",
            "Requirement already satisfied: pytz>=2022.5 in /usr/local/lib/python3.10/dist-packages (from yfinance) (2024.2)\n",
            "Requirement already satisfied: frozendict>=2.3.4 in /usr/local/lib/python3.10/dist-packages (from yfinance) (2.4.6)\n",
            "Requirement already satisfied: peewee>=3.16.2 in /usr/local/lib/python3.10/dist-packages (from yfinance) (3.17.8)\n",
            "Requirement already satisfied: beautifulsoup4>=4.11.1 in /usr/local/lib/python3.10/dist-packages (from yfinance) (4.12.3)\n",
            "Requirement already satisfied: html5lib>=1.1 in /usr/local/lib/python3.10/dist-packages (from yfinance) (1.1)\n",
            "Requirement already satisfied: soupsieve>1.2 in /usr/local/lib/python3.10/dist-packages (from beautifulsoup4>=4.11.1->yfinance) (2.6)\n",
            "Requirement already satisfied: six>=1.9 in /usr/local/lib/python3.10/dist-packages (from html5lib>=1.1->yfinance) (1.16.0)\n",
            "Requirement already satisfied: webencodings in /usr/local/lib/python3.10/dist-packages (from html5lib>=1.1->yfinance) (0.5.1)\n",
            "Requirement already satisfied: python-dateutil>=2.8.2 in /usr/local/lib/python3.10/dist-packages (from pandas>=1.3.0->yfinance) (2.8.2)\n",
            "Requirement already satisfied: tzdata>=2022.7 in /usr/local/lib/python3.10/dist-packages (from pandas>=1.3.0->yfinance) (2024.2)\n",
            "Requirement already satisfied: charset-normalizer<4,>=2 in /usr/local/lib/python3.10/dist-packages (from requests>=2.31->yfinance) (3.4.0)\n",
            "Requirement already satisfied: idna<4,>=2.5 in /usr/local/lib/python3.10/dist-packages (from requests>=2.31->yfinance) (3.10)\n",
            "Requirement already satisfied: urllib3<3,>=1.21.1 in /usr/local/lib/python3.10/dist-packages (from requests>=2.31->yfinance) (2.2.3)\n",
            "Requirement already satisfied: certifi>=2017.4.17 in /usr/local/lib/python3.10/dist-packages (from requests>=2.31->yfinance) (2024.8.30)\n"
          ]
        }
      ],
      "source": [
        "!pip install yfinance\n"
      ]
    },
    {
      "cell_type": "code",
      "execution_count": 3,
      "metadata": {
        "id": "7w-jbo76jfKI"
      },
      "outputs": [],
      "source": [
        "# Portfolio Analysis Tool with main()\n",
        "# This tool is designed to analyze investment portfolios by fetching historical data,\n",
        "# calculating key metrics, and providing visualizations. Future updates will add more features.\n",
        "\n",
        "import yfinance as yf\n",
        "import pandas as pd\n",
        "import numpy as np\n",
        "import matplotlib.pyplot as plt\n",
        "from datetime import datetime, timedelta"
      ]
    },
    {
      "cell_type": "code",
      "execution_count": 4,
      "metadata": {
        "id": "Y0azoawIjl_n"
      },
      "outputs": [],
      "source": [
        "def fetch_data(assets):\n",
        "    \"\"\"Fetch historical data for given assets over the last 5 years.\"\"\"\n",
        "    # Calculate the start and end dates (5 years from today)\n",
        "    end_date = datetime.today()\n",
        "    start_date = end_date - timedelta(days=5*365)\n",
        "\n",
        "    # Initialize an empty DataFrame to store adjusted close prices\n",
        "    all_data = pd.DataFrame()\n",
        "\n",
        "    for asset in assets:\n",
        "        try:\n",
        "            # Download data\n",
        "            data = yf.download(asset, start=start_date, end=end_date)['Adj Close']\n",
        "            # Check if data is available for at least 4.5 years (~90% of 5 years)\n",
        "            if len(data) >= 0.9 * (5 * 252):  # 252 trading days per year\n",
        "                all_data[asset] = data\n",
        "            else:\n",
        "                print(f\"Insufficient data for {asset}. Excluding from portfolio.\")\n",
        "        except Exception as e:\n",
        "            print(f\"Error fetching data for {asset}: {e}. Excluding from portfolio.\")\n",
        "\n",
        "    return all_data.dropna(axis=1)"
      ]
    },
    {
      "cell_type": "code",
      "execution_count": 5,
      "metadata": {
        "id": "SBajSZ13jq9p"
      },
      "outputs": [],
      "source": [
        "def calculate_portfolio_metrics(data, weights, risk_free_rate=0.03):\n",
        "    \"\"\"Calculate portfolio metrics: return, risk, and Sharpe ratio.\"\"\"\n",
        "    returns = data.pct_change().dropna()\n",
        "    annual_returns = returns.mean() * 252\n",
        "    normalized_weights = [w / sum(weights) for w in weights]\n",
        "    portfolio_return = np.dot(normalized_weights, annual_returns)\n",
        "    cov_matrix = returns.cov() * 252\n",
        "    portfolio_variance = np.dot(normalized_weights, np.dot(cov_matrix, normalized_weights))\n",
        "    portfolio_std_dev = np.sqrt(portfolio_variance)\n",
        "    sharpe_ratio = (portfolio_return - risk_free_rate) / portfolio_std_dev\n",
        "    return {\n",
        "        \"Expected Return\": portfolio_return,\n",
        "        \"Risk (Std Dev)\": portfolio_std_dev,\n",
        "        \"Sharpe Ratio\": sharpe_ratio\n",
        "    }"
      ]
    },
    {
      "cell_type": "code",
      "execution_count": 6,
      "metadata": {
        "id": "KAXL5eFQju3x"
      },
      "outputs": [],
      "source": [
        "def plot_allocation(weights, assets):\n",
        "    \"\"\"Visualize portfolio allocation.\"\"\"\n",
        "    plt.figure(figsize=(6, 6))\n",
        "    plt.pie(weights, labels=assets, autopct='%1.1f%%', startangle=90, colors=plt.cm.Paired(range(len(assets))))\n",
        "    plt.title(\"Portfolio Allocation\")\n",
        "    plt.show()"
      ]
    },
    {
      "cell_type": "code",
      "execution_count": 8,
      "metadata": {
        "id": "kRfqwanSj0gU"
      },
      "outputs": [],
      "source": [
        "# input_handling.py\n",
        "# Functions for handling portfolio input\n",
        "\n",
        "import pandas as pd\n",
        "import yfinance as yf\n",
        "\n",
        "def get_portfolio_input():\n",
        "    \"\"\"\n",
        "    Automatically process portfolio input from a CSV file.\n",
        "    Returns a DataFrame with Ticker, Name, and Weight columns.\n",
        "    Also downloads monthly historical data for the tickers and saves it to a CSV file.\n",
        "    \"\"\"\n",
        "    file_path = input(\"Enter the path to your CSV file: \").strip()\n",
        "    try:\n",
        "        # Read CSV file\n",
        "        data = pd.read_csv(file_path, header=0)\n",
        "        print(\"CSV File Preview:\")\n",
        "        print(data.head())\n",
        "\n",
        "        # Dynamically identify columns for Ticker and Weight\n",
        "        ticker_col = None\n",
        "        weight_col = None\n",
        "\n",
        "        for col in data.columns:\n",
        "            if \"ticker\" in col.lower():\n",
        "                ticker_col = col\n",
        "            elif \"weight\" in col.lower():\n",
        "                weight_col = col\n",
        "\n",
        "        if not ticker_col or not weight_col:\n",
        "            raise KeyError(\"The CSV file must contain columns for Ticker and Weight.\")\n",
        "\n",
        "        # Extract tickers and weights\n",
        "        tickers = data[ticker_col].tolist()\n",
        "        weights = list(map(float, data[weight_col]))\n",
        "\n",
        "        # Get names if available, otherwise fetch from API\n",
        "        if 'Name' in data.columns:\n",
        "            names = data['Name'].tolist()\n",
        "        else:\n",
        "            print(\"Fetching asset names from API...\")\n",
        "            names = []\n",
        "            for ticker in tickers:\n",
        "                try:\n",
        "                    asset = yf.Ticker(ticker)\n",
        "                    names.append(asset.info.get('shortName', 'Unknown'))\n",
        "                except Exception:\n",
        "                    names.append('Unknown')\n",
        "\n",
        "        # Validate weights\n",
        "        if not all(w > 0 for w in weights):\n",
        "            raise ValueError(\"All weights must be positive numbers.\")\n",
        "\n",
        "        # Normalize weights if they do not sum to 1\n",
        "        total_weight = sum(weights)\n",
        "        if total_weight != 1.0:\n",
        "            weights = [w / total_weight for w in weights]\n",
        "            print(\"Weights were normalized to sum to 1.\")\n",
        "\n",
        "        # Download monthly data for each ticker and save to CSV\n",
        "        print(\"Downloading monthly historical data for tickers...\")\n",
        "        historical_data = pd.DataFrame()\n",
        "\n",
        "        for ticker in tickers:\n",
        "            try:\n",
        "                ticker_data = yf.download(ticker, interval='1mo', period='5y')\n",
        "                ticker_data['Ticker'] = ticker\n",
        "                historical_data = pd.concat([historical_data, ticker_data])\n",
        "            except Exception as e:\n",
        "                print(f\"Failed to download data for {ticker}: {e}\")\n",
        "\n",
        "        # Save the historical data to a CSV file\n",
        "        historical_data.to_csv(\"historical_data.csv\")\n",
        "        print(\"Historical data saved to historical_data.csv\")\n",
        "\n",
        "        # Create DataFrame to return\n",
        "        portfolio_df = pd.DataFrame({\n",
        "            'Ticker': tickers,\n",
        "            'Name': names,\n",
        "            'Weight': weights\n",
        "        })\n",
        "\n",
        "    except FileNotFoundError:\n",
        "        print(\"Error: The specified file was not found.\")\n",
        "        return get_portfolio_input()\n",
        "    except KeyError as e:\n",
        "        print(f\"Error: {e}\")\n",
        "        return get_portfolio_input()\n",
        "    except ValueError as e:\n",
        "        print(f\"Error: {e}\")\n",
        "        return get_portfolio_input()\n",
        "\n",
        "    return portfolio_df\n"
      ]
    },
    {
      "cell_type": "code",
      "execution_count": 9,
      "metadata": {
        "colab": {
          "base_uri": "https://localhost:8080/",
          "height": 698
        },
        "id": "hnkDHwaSmZfU",
        "outputId": "0dd31e80-6340-4b57-c291-f65c69f2f739"
      },
      "outputs": [
        {
          "output_type": "stream",
          "name": "stdout",
          "text": [
            "Enter the path to your CSV file: /content/sample_portfolio_data (1).csv\n",
            "CSV File Preview:\n",
            "  Ticker  Weight (%)\n",
            "0   AAPL        20.0\n",
            "1   MSFT        15.0\n",
            "2   TSLA        10.0\n",
            "3   AMZN        20.0\n",
            "4   NVDA        10.0\n",
            "Fetching asset names from API...\n",
            "Weights were normalized to sum to 1.\n",
            "Downloading monthly historical data for tickers...\n"
          ]
        },
        {
          "output_type": "stream",
          "name": "stderr",
          "text": [
            "[*********************100%***********************]  1 of 1 completed\n",
            "[*********************100%***********************]  1 of 1 completed\n",
            "[*********************100%***********************]  1 of 1 completed\n",
            "[*********************100%***********************]  1 of 1 completed\n",
            "[*********************100%***********************]  1 of 1 completed\n",
            "[*********************100%***********************]  1 of 1 completed\n",
            "[*********************100%***********************]  1 of 1 completed\n",
            "[*********************100%***********************]  1 of 1 completed\n",
            "[*********************100%***********************]  1 of 1 completed\n",
            "[*********************100%***********************]  1 of 1 completed\n"
          ]
        },
        {
          "output_type": "stream",
          "name": "stdout",
          "text": [
            "Historical data saved to historical_data.csv\n"
          ]
        },
        {
          "output_type": "error",
          "ename": "ValueError",
          "evalue": "too many values to unpack (expected 2)",
          "traceback": [
            "\u001b[0;31m---------------------------------------------------------------------------\u001b[0m",
            "\u001b[0;31mValueError\u001b[0m                                Traceback (most recent call last)",
            "\u001b[0;32m<ipython-input-9-c46199d9aa46>\u001b[0m in \u001b[0;36m<cell line: 26>\u001b[0;34m()\u001b[0m\n\u001b[1;32m     25\u001b[0m \u001b[0;31m# Entry point for the script\u001b[0m\u001b[0;34m\u001b[0m\u001b[0;34m\u001b[0m\u001b[0m\n\u001b[1;32m     26\u001b[0m \u001b[0;32mif\u001b[0m \u001b[0m__name__\u001b[0m \u001b[0;34m==\u001b[0m \u001b[0;34m\"__main__\"\u001b[0m\u001b[0;34m:\u001b[0m\u001b[0;34m\u001b[0m\u001b[0;34m\u001b[0m\u001b[0m\n\u001b[0;32m---> 27\u001b[0;31m     \u001b[0mmain\u001b[0m\u001b[0;34m(\u001b[0m\u001b[0;34m)\u001b[0m\u001b[0;34m\u001b[0m\u001b[0;34m\u001b[0m\u001b[0m\n\u001b[0m",
            "\u001b[0;32m<ipython-input-9-c46199d9aa46>\u001b[0m in \u001b[0;36mmain\u001b[0;34m()\u001b[0m\n\u001b[1;32m      1\u001b[0m \u001b[0;32mdef\u001b[0m \u001b[0mmain\u001b[0m\u001b[0;34m(\u001b[0m\u001b[0;34m)\u001b[0m\u001b[0;34m:\u001b[0m\u001b[0;34m\u001b[0m\u001b[0;34m\u001b[0m\u001b[0m\n\u001b[1;32m      2\u001b[0m     \u001b[0;31m# Step 1: Get portfolio input\u001b[0m\u001b[0;34m\u001b[0m\u001b[0;34m\u001b[0m\u001b[0m\n\u001b[0;32m----> 3\u001b[0;31m     \u001b[0massets\u001b[0m\u001b[0;34m,\u001b[0m \u001b[0mweights\u001b[0m \u001b[0;34m=\u001b[0m \u001b[0mget_portfolio_input\u001b[0m\u001b[0;34m(\u001b[0m\u001b[0;34m)\u001b[0m\u001b[0;34m\u001b[0m\u001b[0;34m\u001b[0m\u001b[0m\n\u001b[0m\u001b[1;32m      4\u001b[0m \u001b[0;34m\u001b[0m\u001b[0m\n\u001b[1;32m      5\u001b[0m     \u001b[0;31m# Step 2: Fetch historical data\u001b[0m\u001b[0;34m\u001b[0m\u001b[0;34m\u001b[0m\u001b[0m\n",
            "\u001b[0;31mValueError\u001b[0m: too many values to unpack (expected 2)"
          ]
        }
      ],
      "source": [
        "def main():\n",
        "    # Step 1: Get portfolio input\n",
        "    assets, weights = get_portfolio_input()\n",
        "\n",
        "    # Step 2: Fetch historical data\n",
        "    all_data = fetch_data(assets)\n",
        "\n",
        "    # Step 3: Recalculate weights for remaining assets\n",
        "    remaining_assets = all_data.columns.tolist()\n",
        "    remaining_weights = [weights[assets.index(asset)] for asset in remaining_assets]\n",
        "    total_weight = sum(remaining_weights)\n",
        "    normalized_weights = [w / total_weight for w in remaining_weights]\n",
        "\n",
        "    # Step 4: Calculate portfolio metrics\n",
        "    metrics = calculate_portfolio_metrics(all_data, normalized_weights)\n",
        "\n",
        "    # Display portfolio metrics\n",
        "    print(\"\\nPortfolio Metrics:\")\n",
        "    for key, value in metrics.items():\n",
        "        print(f\"{key}: {value:.4f}\")\n",
        "\n",
        "    # Step 5: Visualize portfolio allocation\n",
        "    plot_allocation(normalized_weights, remaining_assets)\n",
        "\n",
        "# Entry point for the script\n",
        "if __name__ == \"__main__\":\n",
        "    main()\n"
      ]
    },
    {
      "cell_type": "code",
      "execution_count": null,
      "metadata": {
        "id": "2yKMTeLz9wNo"
      },
      "outputs": [],
      "source": []
    }
  ],
  "metadata": {
    "colab": {
      "provenance": [],
      "authorship_tag": "ABX9TyOqnXQCnjJ5JE2+4o7u28l7",
      "include_colab_link": true
    },
    "kernelspec": {
      "display_name": "Python 3",
      "name": "python3"
    },
    "language_info": {
      "name": "python"
    }
  },
  "nbformat": 4,
  "nbformat_minor": 0
}